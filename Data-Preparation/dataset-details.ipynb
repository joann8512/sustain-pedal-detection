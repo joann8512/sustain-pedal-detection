{
 "cells": [
  {
   "cell_type": "code",
   "execution_count": 3,
   "id": "b498d6fd-0bc2-46ec-9571-ec16d55cc3bd",
   "metadata": {},
   "outputs": [],
   "source": [
    "import os\n",
    "import glob\n",
    "import pandas as pd\n",
    "import numpy as np\n",
    "import miditoolkit"
   ]
  },
  {
   "cell_type": "markdown",
   "id": "6d8370ff-7102-45c2-bed6-3bef0e4815fe",
   "metadata": {},
   "source": [
    "### Dataset Detail\n",
    "* Total: 1276 songs\n",
    "* Composers: 60\n",
    "* Train/Valid/Test: 962:137:177 (0.75 : 0.11 : 0.14)\n",
    "* Train_composers: 58\n",
    "* Valid_composers: 16\n",
    "* Test_composers: 16\n",
    "* Subset: 1/10 original (126 songs)"
   ]
  },
  {
   "cell_type": "code",
   "execution_count": 5,
   "id": "3dffbed4-028c-4e8f-a525-d543629674cf",
   "metadata": {},
   "outputs": [
    {
     "data": {
      "text/html": [
       "<div>\n",
       "<style scoped>\n",
       "    .dataframe tbody tr th:only-of-type {\n",
       "        vertical-align: middle;\n",
       "    }\n",
       "\n",
       "    .dataframe tbody tr th {\n",
       "        vertical-align: top;\n",
       "    }\n",
       "\n",
       "    .dataframe thead th {\n",
       "        text-align: right;\n",
       "    }\n",
       "</style>\n",
       "<table border=\"1\" class=\"dataframe\">\n",
       "  <thead>\n",
       "    <tr style=\"text-align: right;\">\n",
       "      <th></th>\n",
       "      <th>canonical_composer</th>\n",
       "      <th>canonical_title</th>\n",
       "      <th>split</th>\n",
       "      <th>year</th>\n",
       "      <th>midi_filename</th>\n",
       "      <th>audio_filename</th>\n",
       "      <th>duration</th>\n",
       "    </tr>\n",
       "  </thead>\n",
       "  <tbody>\n",
       "    <tr>\n",
       "      <th>0</th>\n",
       "      <td>Alban Berg</td>\n",
       "      <td>Sonata Op. 1</td>\n",
       "      <td>train</td>\n",
       "      <td>2018</td>\n",
       "      <td>2018/MIDI-Unprocessed_Chamber3_MID--AUDIO_10_R...</td>\n",
       "      <td>2018/MIDI-Unprocessed_Chamber3_MID--AUDIO_10_R...</td>\n",
       "      <td>698.661160</td>\n",
       "    </tr>\n",
       "    <tr>\n",
       "      <th>1</th>\n",
       "      <td>Alban Berg</td>\n",
       "      <td>Sonata Op. 1</td>\n",
       "      <td>train</td>\n",
       "      <td>2008</td>\n",
       "      <td>2008/MIDI-Unprocessed_03_R2_2008_01-03_ORIG_MI...</td>\n",
       "      <td>2008/MIDI-Unprocessed_03_R2_2008_01-03_ORIG_MI...</td>\n",
       "      <td>759.518471</td>\n",
       "    </tr>\n",
       "    <tr>\n",
       "      <th>2</th>\n",
       "      <td>Alban Berg</td>\n",
       "      <td>Sonata Op. 1</td>\n",
       "      <td>train</td>\n",
       "      <td>2017</td>\n",
       "      <td>2017/MIDI-Unprocessed_066_PIANO066_MID--AUDIO-...</td>\n",
       "      <td>2017/MIDI-Unprocessed_066_PIANO066_MID--AUDIO-...</td>\n",
       "      <td>464.649433</td>\n",
       "    </tr>\n",
       "    <tr>\n",
       "      <th>3</th>\n",
       "      <td>Alexander Scriabin</td>\n",
       "      <td>24 Preludes Op. 11, No. 13-24</td>\n",
       "      <td>train</td>\n",
       "      <td>2004</td>\n",
       "      <td>2004/MIDI-Unprocessed_XP_21_R1_2004_01_ORIG_MI...</td>\n",
       "      <td>2004/MIDI-Unprocessed_XP_21_R1_2004_01_ORIG_MI...</td>\n",
       "      <td>872.640588</td>\n",
       "    </tr>\n",
       "    <tr>\n",
       "      <th>4</th>\n",
       "      <td>Alexander Scriabin</td>\n",
       "      <td>3 Etudes, Op. 65</td>\n",
       "      <td>validation</td>\n",
       "      <td>2006</td>\n",
       "      <td>2006/MIDI-Unprocessed_17_R1_2006_01-06_ORIG_MI...</td>\n",
       "      <td>2006/MIDI-Unprocessed_17_R1_2006_01-06_ORIG_MI...</td>\n",
       "      <td>397.857508</td>\n",
       "    </tr>\n",
       "    <tr>\n",
       "      <th>...</th>\n",
       "      <td>...</td>\n",
       "      <td>...</td>\n",
       "      <td>...</td>\n",
       "      <td>...</td>\n",
       "      <td>...</td>\n",
       "      <td>...</td>\n",
       "      <td>...</td>\n",
       "    </tr>\n",
       "    <tr>\n",
       "      <th>1271</th>\n",
       "      <td>Wolfgang Amadeus Mozart</td>\n",
       "      <td>Sonata in F Major, K280</td>\n",
       "      <td>test</td>\n",
       "      <td>2004</td>\n",
       "      <td>2004/MIDI-Unprocessed_XP_14_R1_2004_04_ORIG_MI...</td>\n",
       "      <td>2004/MIDI-Unprocessed_XP_14_R1_2004_04_ORIG_MI...</td>\n",
       "      <td>241.470442</td>\n",
       "    </tr>\n",
       "    <tr>\n",
       "      <th>1272</th>\n",
       "      <td>Wolfgang Amadeus Mozart</td>\n",
       "      <td>Sonata in F Major, K280</td>\n",
       "      <td>train</td>\n",
       "      <td>2004</td>\n",
       "      <td>2004/MIDI-Unprocessed_XP_14_R1_2004_04_ORIG_MI...</td>\n",
       "      <td>2004/MIDI-Unprocessed_XP_14_R1_2004_04_ORIG_MI...</td>\n",
       "      <td>114.696243</td>\n",
       "    </tr>\n",
       "    <tr>\n",
       "      <th>1273</th>\n",
       "      <td>Wolfgang Amadeus Mozart</td>\n",
       "      <td>Sonata in F Major, K533</td>\n",
       "      <td>validation</td>\n",
       "      <td>2004</td>\n",
       "      <td>2004/MIDI-Unprocessed_SMF_12_01_2004_01-05_ORI...</td>\n",
       "      <td>2004/MIDI-Unprocessed_SMF_12_01_2004_01-05_ORI...</td>\n",
       "      <td>1139.198478</td>\n",
       "    </tr>\n",
       "    <tr>\n",
       "      <th>1274</th>\n",
       "      <td>Wolfgang Amadeus Mozart</td>\n",
       "      <td>Sonata in F Major, K533/K494</td>\n",
       "      <td>validation</td>\n",
       "      <td>2018</td>\n",
       "      <td>2018/MIDI-Unprocessed_Recital17-19_MID--AUDIO_...</td>\n",
       "      <td>2018/MIDI-Unprocessed_Recital17-19_MID--AUDIO_...</td>\n",
       "      <td>1068.751602</td>\n",
       "    </tr>\n",
       "    <tr>\n",
       "      <th>1275</th>\n",
       "      <td>Wolfgang Amadeus Mozart</td>\n",
       "      <td>Twelve Variations, K179 (189a)</td>\n",
       "      <td>train</td>\n",
       "      <td>2004</td>\n",
       "      <td>2004/MIDI-Unprocessed_XP_04_R1_2004_01-02_ORIG...</td>\n",
       "      <td>2004/MIDI-Unprocessed_XP_04_R1_2004_01-02_ORIG...</td>\n",
       "      <td>630.266303</td>\n",
       "    </tr>\n",
       "  </tbody>\n",
       "</table>\n",
       "<p>1276 rows × 7 columns</p>\n",
       "</div>"
      ],
      "text/plain": [
       "           canonical_composer                 canonical_title       split  \\\n",
       "0                  Alban Berg                    Sonata Op. 1       train   \n",
       "1                  Alban Berg                    Sonata Op. 1       train   \n",
       "2                  Alban Berg                    Sonata Op. 1       train   \n",
       "3          Alexander Scriabin   24 Preludes Op. 11, No. 13-24       train   \n",
       "4          Alexander Scriabin                3 Etudes, Op. 65  validation   \n",
       "...                       ...                             ...         ...   \n",
       "1271  Wolfgang Amadeus Mozart         Sonata in F Major, K280        test   \n",
       "1272  Wolfgang Amadeus Mozart         Sonata in F Major, K280       train   \n",
       "1273  Wolfgang Amadeus Mozart         Sonata in F Major, K533  validation   \n",
       "1274  Wolfgang Amadeus Mozart    Sonata in F Major, K533/K494  validation   \n",
       "1275  Wolfgang Amadeus Mozart  Twelve Variations, K179 (189a)       train   \n",
       "\n",
       "      year                                      midi_filename  \\\n",
       "0     2018  2018/MIDI-Unprocessed_Chamber3_MID--AUDIO_10_R...   \n",
       "1     2008  2008/MIDI-Unprocessed_03_R2_2008_01-03_ORIG_MI...   \n",
       "2     2017  2017/MIDI-Unprocessed_066_PIANO066_MID--AUDIO-...   \n",
       "3     2004  2004/MIDI-Unprocessed_XP_21_R1_2004_01_ORIG_MI...   \n",
       "4     2006  2006/MIDI-Unprocessed_17_R1_2006_01-06_ORIG_MI...   \n",
       "...    ...                                                ...   \n",
       "1271  2004  2004/MIDI-Unprocessed_XP_14_R1_2004_04_ORIG_MI...   \n",
       "1272  2004  2004/MIDI-Unprocessed_XP_14_R1_2004_04_ORIG_MI...   \n",
       "1273  2004  2004/MIDI-Unprocessed_SMF_12_01_2004_01-05_ORI...   \n",
       "1274  2018  2018/MIDI-Unprocessed_Recital17-19_MID--AUDIO_...   \n",
       "1275  2004  2004/MIDI-Unprocessed_XP_04_R1_2004_01-02_ORIG...   \n",
       "\n",
       "                                         audio_filename     duration  \n",
       "0     2018/MIDI-Unprocessed_Chamber3_MID--AUDIO_10_R...   698.661160  \n",
       "1     2008/MIDI-Unprocessed_03_R2_2008_01-03_ORIG_MI...   759.518471  \n",
       "2     2017/MIDI-Unprocessed_066_PIANO066_MID--AUDIO-...   464.649433  \n",
       "3     2004/MIDI-Unprocessed_XP_21_R1_2004_01_ORIG_MI...   872.640588  \n",
       "4     2006/MIDI-Unprocessed_17_R1_2006_01-06_ORIG_MI...   397.857508  \n",
       "...                                                 ...          ...  \n",
       "1271  2004/MIDI-Unprocessed_XP_14_R1_2004_04_ORIG_MI...   241.470442  \n",
       "1272  2004/MIDI-Unprocessed_XP_14_R1_2004_04_ORIG_MI...   114.696243  \n",
       "1273  2004/MIDI-Unprocessed_SMF_12_01_2004_01-05_ORI...  1139.198478  \n",
       "1274  2018/MIDI-Unprocessed_Recital17-19_MID--AUDIO_...  1068.751602  \n",
       "1275  2004/MIDI-Unprocessed_XP_04_R1_2004_01-02_ORIG...   630.266303  \n",
       "\n",
       "[1276 rows x 7 columns]"
      ]
     },
     "execution_count": 5,
     "metadata": {},
     "output_type": "execute_result"
    }
   ],
   "source": [
    "## Read dataset metadata\n",
    "data = pd.read_csv('../../../maestro-v3.0.0/maestro-v3.0.0.csv')\n",
    "data"
   ]
  },
  {
   "cell_type": "code",
   "execution_count": 10,
   "id": "f2b230c2-f445-432f-9ac8-72c02ab6463a",
   "metadata": {},
   "outputs": [
    {
     "data": {
      "text/plain": [
       "60"
      ]
     },
     "execution_count": 10,
     "metadata": {},
     "output_type": "execute_result"
    }
   ],
   "source": [
    "composers = data['canonical_composer']\n",
    "composers = np.unique(composers)\n",
    "len(composers)"
   ]
  },
  {
   "cell_type": "code",
   "execution_count": 13,
   "id": "52053a25-3c54-4209-9411-c44849fd331c",
   "metadata": {},
   "outputs": [
    {
     "name": "stdout",
     "output_type": "stream",
     "text": [
      "['test' 'train' 'validation']\n",
      "[177 962 137]\n"
     ]
    }
   ],
   "source": [
    "## train/test group amount\n",
    "split = data['split']\n",
    "unique, counts = np.unique(split, return_counts=True)\n",
    "print(unique)\n",
    "print(counts)"
   ]
  },
  {
   "cell_type": "code",
   "execution_count": 40,
   "id": "18aadf59-7d5a-4dce-9856-add60a4de81b",
   "metadata": {},
   "outputs": [
    {
     "name": "stdout",
     "output_type": "stream",
     "text": [
      "Train_comp: 58, Val_comp: 16, Test_comp: 16\n"
     ]
    }
   ],
   "source": [
    "train_comp = data.loc[data['split'] == 'train']['canonical_composer']\n",
    "val_comp = data.loc[data['split'] == 'validation']['canonical_composer']\n",
    "test_comp = data.loc[data['split'] == 'test']['canonical_composer']\n",
    "print('Train_comp: {}, Val_comp: {}, Test_comp: {}'.format(len(np.unique(train_comp)), len(np.unique(val_comp)), len(np.unique(test_comp))))"
   ]
  },
  {
   "cell_type": "code",
   "execution_count": 58,
   "id": "357f9984-d38d-48cf-bc13-2c6bcd3bd10f",
   "metadata": {},
   "outputs": [],
   "source": [
    "train = data.loc[data['split'] == 'train']['midi_filename']\n",
    "test = data.loc[data['split'] == 'test']['midi_filename']\n",
    "valid = data.loc[data['split'] == 'validation']['midi_filename']\n",
    "\n",
    "rand_train = data.query('(split == \"train\")').sample(len(train)//10)\n",
    "rand_test = data.query('(split == \"test\")').sample(len(test)//10)\n",
    "rand_val = data.query('(split == \"validation\")').sample(len(valid)//10)\n"
   ]
  },
  {
   "cell_type": "code",
   "execution_count": 68,
   "id": "38de4954-c7e1-4491-9f8d-ccbe994d3d9c",
   "metadata": {},
   "outputs": [],
   "source": [
    "## sub train/test/val to new dataframe --> csv\n",
    "frames = [rand_train, rand_val, rand_test]\n",
    "subset = pd.concat(frames)\n",
    "subset.to_csv('./subset-metadata.csv', header=True)"
   ]
  },
  {
   "cell_type": "code",
   "execution_count": null,
   "id": "1438ed24-342d-4f3a-8749-ae39051f548c",
   "metadata": {},
   "outputs": [],
   "source": []
  },
  {
   "cell_type": "markdown",
   "id": "9bf1cdde-5ff8-4e3d-8e03-36e76e8d4993",
   "metadata": {},
   "source": [
    "### Read all midi files for pedal location"
   ]
  },
  {
   "cell_type": "code",
   "execution_count": 29,
   "id": "d2280879-9d29-4c29-8366-ad695fae83fe",
   "metadata": {
    "scrolled": true,
    "tags": []
   },
   "outputs": [
    {
     "name": "stdout",
     "output_type": "stream",
     "text": [
      "1/126\n",
      "./shifted-midi/train/2018/MIDI-Unprocessed_Recital1-3_MID--AUDIO_02_R1_2018_wav--2.midi\n",
      "2/126\n",
      "./shifted-midi/train/2011/MIDI-Unprocessed_22_R1_2011_MID--AUDIO_R1-D8_11_Track11_wav.midi\n",
      "3/126\n",
      "./shifted-midi/train/2008/MIDI-Unprocessed_10_R3_2008_01-05_ORIG_MID--AUDIO_10_R3_2008_wav--4.midi\n",
      "4/126\n",
      "./shifted-midi/train/2009/MIDI-Unprocessed_10_R1_2009_03-05_ORIG_MID--AUDIO_10_R1_2009_10_R1_2009_03_WAV.midi\n",
      "5/126\n",
      "./shifted-midi/train/2014/MIDI-UNPROCESSED_21-22_R1_2014_MID--AUDIO_21_R1_2014_wav--1.midi\n",
      "6/126\n",
      "./shifted-midi/train/2011/MIDI-Unprocessed_08_R1_2011_MID--AUDIO_R1-D3_09_Track09_wav.midi\n",
      "7/126\n",
      "./shifted-midi/train/2008/MIDI-Unprocessed_10_R3_2008_01-05_ORIG_MID--AUDIO_10_R3_2008_wav--3.midi\n",
      "8/126\n",
      "./shifted-midi/train/2014/MIDI-UNPROCESSED_11-13_R1_2014_MID--AUDIO_11_R1_2014_wav--3.midi\n",
      "9/126\n",
      "./shifted-midi/train/2004/MIDI-Unprocessed_XP_15_R1_2004_04_ORIG_MID--AUDIO_15_R1_2004_04_Track04_wav.midi\n",
      "10/126\n",
      "./shifted-midi/train/2004/MIDI-Unprocessed_SMF_12_01_2004_01-05_ORIG_MID--AUDIO_12_R1_2004_09_Track09_wav.midi\n",
      "11/126\n",
      "./shifted-midi/train/2008/MIDI-Unprocessed_08_R1_2008_01-05_ORIG_MID--AUDIO_08_R1_2008_wav--5.midi\n",
      "12/126\n",
      "./shifted-midi/train/2011/MIDI-Unprocessed_12_R3_2011_MID--AUDIO_R3-D4_09_Track09_wav.midi\n",
      "13/126\n",
      "./shifted-midi/train/2008/MIDI-Unprocessed_11_R1_2008_01-04_ORIG_MID--AUDIO_11_R1_2008_wav--4.midi\n",
      "14/126\n",
      "./shifted-midi/train/2014/MIDI-UNPROCESSED_04-05_R1_2014_MID--AUDIO_05_R1_2014_wav--7.midi\n",
      "15/126\n",
      "./shifted-midi/train/2015/MIDI-Unprocessed_R1_D2-13-20_mid--AUDIO-from_mp3_20_R1_2015_wav--1.midi\n",
      "16/126\n",
      "./shifted-midi/train/2008/MIDI-Unprocessed_17_R2_2008_01-04_ORIG_MID--AUDIO_17_R2_2008_wav--3.midi\n",
      "17/126\n",
      "./shifted-midi/train/2004/MIDI-Unprocessed_XP_15_R2_2004_01_ORIG_MID--AUDIO_15_R2_2004_04_Track04_wav.midi\n",
      "18/126\n",
      "./shifted-midi/train/2014/MIDI-UNPROCESSED_04-05_R1_2014_MID--AUDIO_05_R1_2014_wav--2.midi\n",
      "19/126\n",
      "./shifted-midi/train/2008/MIDI-Unprocessed_11_R1_2008_01-04_ORIG_MID--AUDIO_11_R1_2008_wav--3.midi\n",
      "20/126\n",
      "./shifted-midi/train/2014/MIDI-UNPROCESSED_09-10_R1_2014_MID--AUDIO_10_R1_2014_wav--5.midi\n",
      "21/126\n",
      "./shifted-midi/train/2017/MIDI-Unprocessed_045_PIANO045_MID--AUDIO-split_07-06-17_Piano-e_2-01_wav--1.midi\n",
      "22/126\n",
      "./shifted-midi/train/2006/MIDI-Unprocessed_24_R1_2006_01-05_ORIG_MID--AUDIO_24_R1_2006_05_Track05_wav.midi\n",
      "23/126\n",
      "./shifted-midi/train/2014/MIDI-UNPROCESSED_21-22_R1_2014_MID--AUDIO_22_R1_2014_wav--5.midi\n",
      "24/126\n",
      "./shifted-midi/train/2017/MIDI-Unprocessed_056_PIANO056_MID--AUDIO-split_07-07-17_Piano-e_1-05_wav--4.midi\n",
      "25/126\n",
      "./shifted-midi/train/2011/MIDI-Unprocessed_12_R3_2011_MID--AUDIO_R3-D4_03_Track03_wav.midi\n",
      "26/126\n",
      "./shifted-midi/train/2014/MIDI-UNPROCESSED_19-20-21_R2_2014_MID--AUDIO_21_R2_2014_wav.midi\n",
      "27/126\n",
      "./shifted-midi/train/2008/MIDI-Unprocessed_12_R2_2008_01-04_ORIG_MID--AUDIO_12_R2_2008_wav--1.midi\n",
      "28/126\n",
      "./shifted-midi/train/2013/ORIG-MIDI_02_7_7_13_Group__MID--AUDIO_18_R1_2013_wav--4.midi\n",
      "29/126\n",
      "./shifted-midi/train/2018/MIDI-Unprocessed_Chamber5_MID--AUDIO_18_R3_2018_wav--1.midi\n",
      "30/126\n",
      "./shifted-midi/train/2008/MIDI-Unprocessed_02_R2_2008_01-05_ORIG_MID--AUDIO_02_R2_2008_wav--3.midi\n",
      "31/126\n",
      "./shifted-midi/train/2008/MIDI-Unprocessed_04_R1_2008_01-04_ORIG_MID--AUDIO_04_R1_2008_wav--1.midi\n",
      "32/126\n",
      "./shifted-midi/train/2014/MIDI-UNPROCESSED_01-03_R1_2014_MID--AUDIO_03_R1_2014_wav--6.midi\n",
      "33/126\n",
      "./shifted-midi/train/2011/MIDI-Unprocessed_23_R3_2011_MID--AUDIO_R3-D8_05_Track05_wav.midi\n",
      "34/126\n",
      "./shifted-midi/train/2018/MIDI-Unprocessed_Recital17-19_MID--AUDIO_19_R1_2018_wav--4.midi\n",
      "35/126\n",
      "./shifted-midi/train/2011/MIDI-Unprocessed_06_R1_2011_MID--AUDIO_R1-D2_15_Track15_wav.midi\n",
      "36/126\n",
      "./shifted-midi/train/2015/MIDI-Unprocessed_R1_D1-9-12_mid--AUDIO-from_mp3_10_R1_2015_wav--2.midi\n",
      "37/126\n",
      "./shifted-midi/train/2014/MIDI-UNPROCESSED_21-22_R1_2014_MID--AUDIO_22_R1_2014_wav--1.midi\n",
      "38/126\n",
      "./shifted-midi/train/2011/MIDI-Unprocessed_22_R1_2011_MID--AUDIO_R1-D8_13_Track13_wav.midi\n",
      "39/126\n",
      "./shifted-midi/train/2011/MIDI-Unprocessed_25_R1_2011_MID--AUDIO_R1-D9_14_Track14_wav.midi\n",
      "40/126\n",
      "./shifted-midi/train/2018/MIDI-Unprocessed_Recital9-11_MID--AUDIO_10_R1_2018_wav--1.midi\n",
      "41/126\n",
      "./shifted-midi/train/2018/MIDI-Unprocessed_Recital1-3_MID--AUDIO_02_R1_2018_wav--3.midi\n",
      "42/126\n",
      "./shifted-midi/train/2014/MIDI-UNPROCESSED_11-13_R1_2014_MID--AUDIO_12_R1_2014_wav--1.midi\n",
      "43/126\n",
      "./shifted-midi/train/2004/MIDI-Unprocessed_XP_09_R1_2004_01-02_ORIG_MID--AUDIO_09_R1_2004_03_Track03_wav.midi\n",
      "44/126\n",
      "./shifted-midi/train/2006/MIDI-Unprocessed_09_R2_2006_01_ORIG_MID--AUDIO_09_R2_2006_03_Track03_wav.midi\n",
      "45/126\n",
      "./shifted-midi/train/2004/MIDI-Unprocessed_XP_15_R2_2004_01_ORIG_MID--AUDIO_15_R2_2004_01_Track01_wav.midi\n",
      "46/126\n",
      "./shifted-midi/train/2015/MIDI-Unprocessed_R1_D2-13-20_mid--AUDIO-from_mp3_13_R1_2015_wav--1.midi\n",
      "47/126\n",
      "./shifted-midi/train/2017/MIDI-Unprocessed_058_PIANO058_MID--AUDIO-split_07-07-17_Piano-e_2-02_wav--1.midi\n",
      "48/126\n",
      "./shifted-midi/train/2018/MIDI-Unprocessed_Schubert1-3_MID--AUDIO_07_R2_2018_wav.midi\n",
      "49/126\n",
      "./shifted-midi/train/2013/ORIG-MIDI_01_7_6_13_Group__MID--AUDIO_02_R1_2013_wav--1.midi\n",
      "50/126\n",
      "./shifted-midi/train/2004/MIDI-Unprocessed_XP_17_R2_2004_01_ORIG_MID--AUDIO_17_R2_2004_01_Track01_wav.midi\n",
      "51/126\n",
      "./shifted-midi/train/2004/MIDI-Unprocessed_XP_14_R1_2004_01-03_ORIG_MID--AUDIO_14_R1_2004_01_Track01_wav.midi\n",
      "52/126\n",
      "./shifted-midi/train/2013/ORIG-MIDI_03_7_6_13_Group__MID--AUDIO_10_R1_2013_wav--2.midi\n",
      "53/126\n",
      "./shifted-midi/train/2008/MIDI-Unprocessed_09_R1_2008_01-05_ORIG_MID--AUDIO_09_R1_2008_wav--5.midi\n",
      "54/126\n",
      "./shifted-midi/train/2008/MIDI-Unprocessed_11_R2_2008_01-05_ORIG_MID--AUDIO_11_R2_2008_wav--2.midi\n",
      "55/126\n",
      "./shifted-midi/train/2011/MIDI-Unprocessed_10_R2_2011_MID--AUDIO_R2-D3_10_Track10_wav.midi\n",
      "56/126\n",
      "./shifted-midi/train/2013/ORIG-MIDI_01_7_6_13_Group__MID--AUDIO_04_R1_2013_wav--2.midi\n",
      "57/126\n",
      "./shifted-midi/train/2018/MIDI-Unprocessed_Recital8_MID--AUDIO_08_R1_2018_wav--4.midi\n",
      "58/126\n",
      "./shifted-midi/train/2011/MIDI-Unprocessed_04_R1_2011_MID--AUDIO_R1-D2_02_Track02_wav.midi\n",
      "59/126\n",
      "./shifted-midi/train/2015/MIDI-Unprocessed_R2_D2-12-13-15_mid--AUDIO-from_mp3_15_R2_2015_wav--3.midi\n",
      "60/126\n",
      "./shifted-midi/train/2004/MIDI-Unprocessed_XP_01_R1_2004_01-02_ORIG_MID--AUDIO_01_R1_2004_02_Track02_wav.midi\n",
      "61/126\n",
      "./shifted-midi/train/2013/ORIG-MIDI_02_7_8_13_Group__MID--AUDIO_12_R2_2013_wav--1.midi\n",
      "62/126\n",
      "./shifted-midi/train/2009/MIDI-Unprocessed_12_R1_2009_01-02_ORIG_MID--AUDIO_12_R1_2009_12_R1_2009_01_WAV.midi\n",
      "63/126\n",
      "./shifted-midi/train/2011/MIDI-Unprocessed_24_R1_2011_MID--AUDIO_R1-D9_09_Track09_wav.midi\n",
      "64/126\n",
      "./shifted-midi/train/2015/MIDI-Unprocessed_R1_D1-9-12_mid--AUDIO-from_mp3_10_R1_2015_wav--3.midi\n",
      "65/126\n",
      "./shifted-midi/train/2011/MIDI-Unprocessed_10_R2_2011_MID--AUDIO_R2-D3_11_Track11_wav.midi\n",
      "66/126\n",
      "./shifted-midi/train/2013/ORIG-MIDI_01_7_10_13_Group_MID--AUDIO_07_R3_2013_wav--3.midi\n",
      "67/126\n",
      "./shifted-midi/train/2014/MIDI-UNPROCESSED_09-10_R1_2014_MID--AUDIO_10_R1_2014_wav--4.midi\n",
      "68/126\n",
      "./shifted-midi/train/2017/MIDI-Unprocessed_080_PIANO080_MID--AUDIO-split_07-09-17_Piano-e_1-06_wav--1.midi\n",
      "69/126\n",
      "./shifted-midi/train/2006/MIDI-Unprocessed_22_R1_2006_01-04_ORIG_MID--AUDIO_22_R1_2006_04_Track04_wav.midi\n",
      "70/126\n",
      "./shifted-midi/train/2013/ORIG-MIDI_03_7_10_13_Group_MID--AUDIO_17_R3_2013_wav--3.midi\n",
      "71/126\n",
      "./shifted-midi/train/2017/MIDI-Unprocessed_061_PIANO061_MID--AUDIO-split_07-07-17_Piano-e_2-05_wav--2.midi\n",
      "72/126\n",
      "./shifted-midi/train/2008/MIDI-Unprocessed_09_R3_2008_01-07_ORIG_MID--AUDIO_09_R3_2008_wav--3.midi\n",
      "73/126\n",
      "./shifted-midi/train/2015/MIDI-Unprocessed_R2_D1-2-3-6-7-8-11_mid--AUDIO-from_mp3_07_R2_2015_wav--1.midi\n",
      "74/126\n",
      "./shifted-midi/train/2004/MIDI-Unprocessed_XP_01_R1_2004_01-02_ORIG_MID--AUDIO_01_R1_2004_03_Track03_wav.midi\n",
      "75/126\n",
      "./shifted-midi/train/2008/MIDI-Unprocessed_06_R1_2008_01-04_ORIG_MID--AUDIO_06_R1_2008_wav--1.midi\n",
      "76/126\n",
      "./shifted-midi/train/2006/MIDI-Unprocessed_04_R1_2006_01-04_ORIG_MID--AUDIO_04_R1_2006_04_Track04_wav.midi\n",
      "77/126\n",
      "./shifted-midi/train/2011/MIDI-Unprocessed_11_R1_2011_MID--AUDIO_R1-D4_10_Track10_wav.midi\n",
      "78/126\n",
      "./shifted-midi/train/2006/MIDI-Unprocessed_15_R1_2006_01-05_ORIG_MID--AUDIO_15_R1_2006_01_Track01_wav.midi\n",
      "79/126\n",
      "./shifted-midi/train/2004/MIDI-Unprocessed_XP_14_R2_2004_01_ORIG_MID--AUDIO_14_R2_2004_01_Track01_wav.midi\n",
      "80/126\n",
      "./shifted-midi/train/2018/MIDI-Unprocessed_Schubert7-9_MID--AUDIO_15_R2_2018_wav.midi\n",
      "81/126\n",
      "./shifted-midi/train/2004/MIDI-Unprocessed_XP_03_R1_2004_01-02_ORIG_MID--AUDIO_03_R1_2004_02_Track02_wav.midi\n",
      "82/126\n",
      "./shifted-midi/train/2008/MIDI-Unprocessed_01_R1_2008_01-04_ORIG_MID--AUDIO_01_R1_2008_wav--3.midi\n",
      "83/126\n",
      "./shifted-midi/train/2004/MIDI-Unprocessed_XP_06_R1_2004_01_ORIG_MID--AUDIO_06_R1_2004_01_Track01_wav.midi\n",
      "84/126\n",
      "./shifted-midi/train/2006/MIDI-Unprocessed_14_R1_2006_01-05_ORIG_MID--AUDIO_14_R1_2006_03_Track03_wav.midi\n",
      "85/126\n",
      "./shifted-midi/train/2013/ORIG-MIDI_02_7_7_13_Group__MID--AUDIO_15_R1_2013_wav--1.midi\n",
      "86/126\n",
      "./shifted-midi/train/2004/MIDI-Unprocessed_XP_16_R2_2004_01_ORIG_MID--AUDIO_16_R2_2004_01_Track01_wav.midi\n",
      "87/126\n",
      "./shifted-midi/train/2017/MIDI-Unprocessed_083_PIANO083_MID--AUDIO-split_07-09-17_Piano-e_2_-06_wav--4.midi\n",
      "88/126\n",
      "./shifted-midi/train/2011/MIDI-Unprocessed_07_R1_2011_MID--AUDIO_R1-D3_04_Track04_wav.midi\n",
      "89/126\n",
      "./shifted-midi/train/2011/MIDI-Unprocessed_16_R2_2011_MID--AUDIO_R2-D4_08_Track08_wav.midi\n",
      "90/126\n",
      "./shifted-midi/train/2008/MIDI-Unprocessed_18_R1_2008_01-04_ORIG_MID--AUDIO_18_R1_2008_wav--4.midi\n",
      "91/126\n",
      "./shifted-midi/train/2017/MIDI-Unprocessed_056_PIANO056_MID--AUDIO-split_07-07-17_Piano-e_1-05_wav--2.midi\n",
      "92/126\n",
      "./shifted-midi/train/2008/MIDI-Unprocessed_12_R3_2008_01-04_ORIG_MID--AUDIO_12_R3_2008_wav--2.midi\n",
      "93/126\n",
      "./shifted-midi/train/2009/MIDI-Unprocessed_04_R1_2009_01-03_ORIG_MID--AUDIO_04_R1_2009_04_R1_2009_02_WAV.midi\n",
      "94/126\n",
      "./shifted-midi/train/2004/MIDI-Unprocessed_SMF_13_01_2004_01-05_ORIG_MID--AUDIO_13_R1_2004_02_Track02_wav.midi\n",
      "95/126\n",
      "./shifted-midi/train/2011/MIDI-Unprocessed_17_R3_2011_MID--AUDIO_R3-D6_05_Track05_wav.midi\n",
      "96/126\n",
      "./shifted-midi/train/2011/MIDI-Unprocessed_04_R2_2011_MID--AUDIO_R2-D2_02_Track02_wav.midi\n",
      "97/126\n",
      "./shifted-midi/validation/2018/MIDI-Unprocessed_Recital4_MID--AUDIO_04_R1_2018_wav--4.midi\n",
      "98/126\n",
      "./shifted-midi/validation/2004/MIDI-Unprocessed_SMF_13_01_2004_01-05_ORIG_MID--AUDIO_13_R1_2004_05_Track05_wav.midi\n",
      "99/126\n",
      "./shifted-midi/validation/2017/MIDI-Unprocessed_055_PIANO055_MID--AUDIO-split_07-07-17_Piano-e_1-04_wav--3.midi\n",
      "100/126\n",
      "./shifted-midi/validation/2006/MIDI-Unprocessed_16_R1_2006_01-04_ORIG_MID--AUDIO_16_R1_2006_01_Track01_wav.midi\n",
      "101/126\n",
      "./shifted-midi/validation/2008/MIDI-Unprocessed_05_R1_2008_01-04_ORIG_MID--AUDIO_05_R1_2008_wav--1.midi\n",
      "102/126\n",
      "./shifted-midi/validation/2006/MIDI-Unprocessed_17_R1_2006_01-06_ORIG_MID--AUDIO_17_R1_2006_04_Track04_wav.midi\n",
      "103/126\n",
      "./shifted-midi/validation/2014/MIDI-UNPROCESSED_01-03_R1_2014_MID--AUDIO_01_R1_2014_wav--5.midi\n",
      "104/126\n",
      "./shifted-midi/validation/2013/ORIG-MIDI_03_7_10_13_Group_MID--AUDIO_15_R3_2013_wav--2.midi\n",
      "105/126\n",
      "./shifted-midi/validation/2017/MIDI-Unprocessed_062_PIANO062_MID--AUDIO-split_07-07-17_Piano-e_2-07_wav--3.midi\n",
      "106/126\n",
      "./shifted-midi/validation/2014/MIDI-UNPROCESSED_01-03_R1_2014_MID--AUDIO_03_R1_2014_wav--2.midi\n",
      "107/126\n",
      "./shifted-midi/validation/2004/MIDI-Unprocessed_XP_11_R1_2004_03-04_ORIG_MID--AUDIO_11_R1_2004_04_Track04_wav.midi\n",
      "108/126\n",
      "./shifted-midi/validation/2009/MIDI-Unprocessed_16_R1_2009_03-06_ORIG_MID--AUDIO_16_R1_2009_16_R1_2009_03_WAV.midi\n",
      "109/126\n",
      "./shifted-midi/validation/2015/MIDI-Unprocessed_R1_D1-1-8_mid--AUDIO-from_mp3_05_R1_2015_wav--1.midi\n",
      "110/126\n",
      "./shifted-midi/test/2017/MIDI-Unprocessed_065_PIANO065_MID--AUDIO-split_07-07-17_Piano-e_3-01_wav--2.midi\n",
      "111/126\n",
      "./shifted-midi/test/2011/MIDI-Unprocessed_03_R2_2011_MID--AUDIO_R2-D1_06_Track06_wav.midi\n",
      "112/126\n",
      "./shifted-midi/test/2017/MIDI-Unprocessed_071_PIANO071_MID--AUDIO-split_07-08-17_Piano-e_1-04_wav--2.midi\n",
      "113/126\n",
      "./shifted-midi/test/2008/MIDI-Unprocessed_05_R1_2008_01-04_ORIG_MID--AUDIO_05_R1_2008_wav--4.midi\n",
      "114/126\n",
      "./shifted-midi/test/2014/MIDI-UNPROCESSED_11-13_R1_2014_MID--AUDIO_13_R1_2014_wav--6.midi\n",
      "115/126\n",
      "./shifted-midi/test/2014/MIDI-UNPROCESSED_01-03_R1_2014_MID--AUDIO_02_R1_2014_wav--4.midi\n",
      "116/126\n",
      "./shifted-midi/test/2013/ORIG-MIDI_01_7_6_13_Group__MID--AUDIO_04_R1_2013_wav--1.midi\n",
      "117/126\n",
      "./shifted-midi/test/2013/ORIG-MIDI_02_7_6_13_Group__MID--AUDIO_08_R1_2013_wav--5.midi\n",
      "118/126\n",
      "./shifted-midi/test/2009/MIDI-Unprocessed_08_R1_2009_01-04_ORIG_MID--AUDIO_08_R1_2009_08_R1_2009_04_WAV.midi\n",
      "119/126\n",
      "./shifted-midi/test/2014/MIDI-UNPROCESSED_01-03_R1_2014_MID--AUDIO_03_R1_2014_wav--4.midi\n",
      "120/126\n",
      "./shifted-midi/test/2008/MIDI-Unprocessed_10_R1_2008_01-04_ORIG_MID--AUDIO_10_R1_2008_wav--2.midi\n",
      "121/126\n",
      "./shifted-midi/test/2008/MIDI-Unprocessed_09_R2_2008_01-05_ORIG_MID--AUDIO_09_R2_2008_wav--3.midi\n",
      "122/126\n",
      "./shifted-midi/test/2015/MIDI-Unprocessed_R1_D2-13-20_mid--AUDIO-from_mp3_16_R1_2015_wav--2.midi\n",
      "123/126\n",
      "./shifted-midi/test/2013/ORIG-MIDI_02_7_6_13_Group__MID--AUDIO_08_R1_2013_wav--4.midi\n",
      "124/126\n",
      "./shifted-midi/test/2011/MIDI-Unprocessed_05_R1_2011_MID--AUDIO_R1-D2_10_Track10_wav.midi\n",
      "125/126\n",
      "./shifted-midi/test/2008/MIDI-Unprocessed_04_R3_2008_01-07_ORIG_MID--AUDIO_04_R3_2008_wav--7.midi\n",
      "126/126\n",
      "./shifted-midi/test/2013/ORIG-MIDI_03_7_6_13_Group__MID--AUDIO_09_R1_2013_wav--3.midi\n"
     ]
    }
   ],
   "source": [
    "root = '../../../maestro-v3.0.0/Original'\n",
    "dir_path = './shifted-midi'\n",
    "data = pd.read_csv('./subset-metadata.csv')\n",
    "for idx, row in data.iterrows():\n",
    "    #path = '2011/MIDI-Unprocessed_04_R2_2011_MID--AUDIO_R2-D2_02_Track02_wav.midi'\n",
    "    print('{}/{}'.format(idx+1, len(data)))\n",
    "    filename = row['midi_filename']\n",
    "    folder = row['split']\n",
    "    midi_obj = miditoolkit.midi.parser.MidiFile(os.path.join(root, filename))\n",
    "    pedals = []\n",
    "    nume = midi_obj.time_signature_changes[0].numerator\n",
    "    tick = midi_obj.ticks_per_beat\n",
    "    for msg in midi_obj.instruments[0].control_changes:  ## 0, 7800, 7816, 7830....\n",
    "        if msg.number == 64:\n",
    "            #pedals.append(msg)\n",
    "            msg.time += int(tick*1.5)\n",
    "    if not os.path.exists(os.path.join(dir_path, folder)):\n",
    "        os.makedirs(os.path.join(dir_path, folder))\n",
    "    midi_obj.dump(os.path.join(dir_path, folder, filename))      "
   ]
  },
  {
   "cell_type": "code",
   "execution_count": 3,
   "id": "dfee5501-506b-4ee6-85f3-0024189bfbf4",
   "metadata": {},
   "outputs": [
    {
     "data": {
      "text/plain": [
       "8376"
      ]
     },
     "execution_count": 3,
     "metadata": {},
     "output_type": "execute_result"
    }
   ],
   "source": [
    "7800 + 576"
   ]
  },
  {
   "cell_type": "code",
   "execution_count": 17,
   "id": "f22972cc-7dd6-447d-804c-75ea89fe2af4",
   "metadata": {},
   "outputs": [
    {
     "name": "stdout",
     "output_type": "stream",
     "text": [
      "Franz Liszt\n"
     ]
    }
   ],
   "source": [
    "for index, row in data.iterrows():\n",
    "    print(row['canonical_composer'])\n",
    "    break"
   ]
  },
  {
   "cell_type": "code",
   "execution_count": null,
   "id": "9e600290-0327-4f7a-aa69-49371af23387",
   "metadata": {},
   "outputs": [],
   "source": []
  },
  {
   "cell_type": "code",
   "execution_count": 49,
   "id": "c1663865-bd3e-41ce-b848-162aadabfdca",
   "metadata": {},
   "outputs": [
    {
     "name": "stdout",
     "output_type": "stream",
     "text": [
      "Metrical Evaluation of Test Set\n",
      "------------------------------\n",
      " Accuracy:  0.623\n",
      "Precision:  0.704\n",
      "   Recall:  0.521\n",
      "       F1:  0.601\n",
      "    Macro:  0.611\n"
     ]
    }
   ],
   "source": [
    "print('Metrical Evaluation of Test Set')\n",
    "print('-'*30)\n",
    "print(' Accuracy:  0.623')\n",
    "print('Precision:  0.704')\n",
    "print('   Recall:  0.521')\n",
    "print('       F1:  0.601')\n",
    "print('    Macro:  0.611')"
   ]
  },
  {
   "cell_type": "code",
   "execution_count": 48,
   "id": "7ddd07c9-7a59-4e27-9e6f-5a8c596f4494",
   "metadata": {},
   "outputs": [
    {
     "data": {
      "image/png": "[encoded data removed]",
      "text/plain": [
       "<Figure size 432x288 with 2 Axes>"
      ]
     },
     "metadata": {},
     "output_type": "display_data"
    }
   ],
   "source": [
    "import seaborn as sns\n",
    "import matplotlib.pyplot as plt\n",
    "\n",
    "array = [[0.521, 0.479],\n",
    "         [0.313, 0.687]]\n",
    "\n",
    "#categories = ['Onset', 'Offset']\n",
    "sns.set(font_scale=1.4) # for label size\n",
    "#p = sns.heatmap(array, annot=True, annot_kws={\"size\": 16},fmt='.2%',cmap=\"OrRd\") # font size\n",
    "p = sns.heatmap(array,xticklabels=['Onset', 'Offset'], yticklabels=['Onset', 'Offset'], annot=True, fmt='.2%', cmap=\"OrRd\")\n",
    "p.set_title('Confusion matrix for Classifier');\n",
    "p.set_xlabel('Predicted')\n",
    "p.set_ylabel('Ground Truth');\n",
    "\n",
    "plt.savefig('../image/confusion_matrix_cls_timeshift.png')\n",
    "plt.show()"
   ]
  },
  {
   "cell_type": "code",
   "execution_count": 43,
   "id": "9d7e35ed-9980-4998-8a17-f1e95f7290c0",
   "metadata": {},
   "outputs": [
    {
     "data": {
      "text/plain": [
       "0.611"
      ]
     },
     "execution_count": 43,
     "metadata": {},
     "output_type": "execute_result"
    }
   ],
   "source": [
    "(52.1+70.10)/(52.1+47.9+29.9+70.10)"
   ]
  },
  {
   "cell_type": "code",
   "execution_count": 46,
   "id": "e299d025-f4b2-480d-bfcb-3a8bda13a15d",
   "metadata": {},
   "outputs": [
    {
     "data": {
      "text/plain": [
       "0.6353658536585366"
      ]
     },
     "execution_count": 46,
     "metadata": {},
     "output_type": "execute_result"
    }
   ],
   "source": [
    "52.1/(52.1+29.9)"
   ]
  },
  {
   "cell_type": "code",
   "execution_count": null,
   "id": "c08965d0-c627-4abe-b93d-f98869c1d175",
   "metadata": {},
   "outputs": [],
   "source": [
    "print('Metrical Evaluation of Test Set')\n",
    "print('-'*30)\n",
    "print(' Accuracy:  0.611')\n",
    "print('Precision:  0.71')\n",
    "print('   Recall:  0.521')\n",
    "print('       F1:  0.601')\n",
    "print('    Macro:  0.611')"
   ]
  }
 ],
 "metadata": {
  "kernelspec": {
   "display_name": "susPed",
   "language": "python",
   "name": "susped"
  },
  "language_info": {
   "codemirror_mode": {
    "name": "ipython",
    "version": 3
   },
   "file_extension": ".py",
   "mimetype": "text/x-python",
   "name": "python",
   "nbconvert_exporter": "python",
   "pygments_lexer": "ipython3",
   "version": "3.6.10"
  }
 },
 "nbformat": 4,
 "nbformat_minor": 5
}
