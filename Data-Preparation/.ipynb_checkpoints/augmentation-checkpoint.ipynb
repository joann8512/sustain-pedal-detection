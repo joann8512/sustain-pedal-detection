{
 "cells": [
  {
   "cell_type": "code",
   "execution_count": 16,
   "id": "07bf2069-85ce-4655-90f8-c5d107515a09",
   "metadata": {},
   "outputs": [],
   "source": [
    "import os\n",
    "import glob\n",
    "import miditoolkit\n",
    "import matplotlib.pyplot as plt"
   ]
  },
  {
   "cell_type": "code",
   "execution_count": 42,
   "id": "4f4c8054-7e9c-450a-83c8-19629b0a7e15",
   "metadata": {},
   "outputs": [
    {
     "name": "stdout",
     "output_type": "stream",
     "text": [
      "4\n"
     ]
    }
   ],
   "source": [
    "sub_dataset = glob.glob('../../../maestro-v3.0.0/no-pedal/midi/2011/*.midi')\n",
    "duration_dict = {}\n",
    "for filepath in sub_dataset:\n",
    "    midi_obj = miditoolkit.midi.parser.MidiFile(filepath)\n",
    "    bpm = int(midi_obj.tempo_changes[0].tempo)  # Read tempo\n",
    "    frame = midi_obj.time_signature_changes[0].numerator*2  # Set frame to every 2 bars for density\n",
    "    # Duration distribution\n",
    "    break"
   ]
  },
  {
   "cell_type": "code",
   "execution_count": null,
   "id": "66438ac7-457b-4661-b51d-5bc8191ac34d",
   "metadata": {},
   "outputs": [],
   "source": [
    "print('Calculating pedalled segment length...')\n",
    "pedal_lengths = []\n",
    "years = ['2002','2004','2006','2008','2009','2011']\n",
    "for year in years:\n",
    "    print('  {}..'.format(year))\n",
    "    txt_path = os.path.join(DIR_PEDAL_METADATA,'filename-{}.txt'.format(year))\n",
    "    filenames = np.genfromtxt(txt_path, dtype=None)\n",
    "\n",
    "    for filename in filenames:\n",
    "        midi_path = os.path.join(DIR_RENDERED, '{}.mid'.format(filename))\n",
    "        \n",
    "        # get ground truth pedal onset time from midi\n",
    "        pm = pretty_midi.PrettyMIDI(midi_path)\n",
    "        pedal_v = []\n",
    "        pedal_t = []\n",
    "        for control_change in pm.instruments[0].control_changes:\n",
    "            if control_change.number == 64:\n",
    "                pedal_v.append(control_change.value)\n",
    "                pedal_t.append(control_change.time)\n",
    "                \n",
    "        pedal_onset = []\n",
    "        pedal_offset = []\n",
    "        for i,v in enumerate(pedal_v):\n",
    "            if i>0 and v>=64 and pedal_v[i-1]<64:\n",
    "                pedal_onset.append(pedal_t[i])   \n",
    "            elif i>0 and v<64 and pedal_v[i-1]>=64:\n",
    "                pedal_offset.append(pedal_t[i])\n",
    "        \n",
    "        pedal_offset = [t for t in pedal_offset if t > pedal_onset[0]]\n",
    "        seg_idxs = np.min([len(pedal_onset), len(pedal_offset)])\n",
    "        pedal_offset = pedal_offset[:seg_idxs]\n",
    "        pedal_onset = pedal_onset[:seg_idxs]\n",
    "        for seg_idx, offset in enumerate(pedal_offset):\n",
    "            if offset != pedal_offset[-1] and offset > pedal_onset[seg_idx] and offset < pedal_onset[seg_idx+1]:\n",
    "                correct_pedal_data = True\n",
    "            elif offset == pedal_offset[-1] and offset > pedal_onset[seg_idx]:\n",
    "                correct_pedal_data = True\n",
    "            else:\n",
    "                correct_pedal_data = False\n",
    "        \n",
    "        if correct_pedal_data:\n",
    "            for seg_idx in np.arange(seg_idxs):\n",
    "                pedal_lengths.append(pedal_offset[seg_idx]-pedal_onset[seg_idx])\n",
    "\n",
    "print('Done!')"
   ]
  },
  {
   "cell_type": "code",
   "execution_count": null,
   "id": "db056599-b915-486c-bd97-91ca673ee3ad",
   "metadata": {},
   "outputs": [],
   "source": []
  }
 ],
 "metadata": {
  "kernelspec": {
   "display_name": "susPed",
   "language": "python",
   "name": "susped"
  },
  "language_info": {
   "codemirror_mode": {
    "name": "ipython",
    "version": 3
   },
   "file_extension": ".py",
   "mimetype": "text/x-python",
   "name": "python",
   "nbconvert_exporter": "python",
   "pygments_lexer": "ipython3",
   "version": "3.6.10"
  }
 },
 "nbformat": 4,
 "nbformat_minor": 5
}
