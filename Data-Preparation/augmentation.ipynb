{
 "cells": [
  {
   "cell_type": "code",
   "execution_count": 109,
   "id": "07bf2069-85ce-4655-90f8-c5d107515a09",
   "metadata": {},
   "outputs": [],
   "source": [
    "import os\n",
    "import glob\n",
    "import miditoolkit\n",
    "import matplotlib.pyplot as plt\n",
    "from mido import MidiFile\n",
    "import numpy as np\n",
    "import seaborn as sns\n",
    "import pandas as pd"
   ]
  },
  {
   "cell_type": "code",
   "execution_count": 147,
   "id": "4f4c8054-7e9c-450a-83c8-19629b0a7e15",
   "metadata": {
    "scrolled": true,
    "tags": []
   },
   "outputs": [
    {
     "name": "stdout",
     "output_type": "stream",
     "text": [
      "Processing 0/163\n",
      "Processing 1/163\n",
      "Processing 2/163\n",
      "Processing 3/163\n",
      "Processing 4/163\n",
      "Processing 5/163\n",
      "Processing 6/163\n",
      "Processing 7/163\n",
      "Processing 8/163\n",
      "Processing 9/163\n",
      "Processing 10/163\n",
      "Processing 11/163\n",
      "Processing 12/163\n",
      "Processing 13/163\n",
      "Processing 14/163\n",
      "Processing 15/163\n",
      "Processing 16/163\n",
      "Processing 17/163\n",
      "Processing 18/163\n",
      "Processing 19/163\n",
      "Processing 20/163\n",
      "Processing 21/163\n",
      "Processing 22/163\n",
      "Processing 23/163\n",
      "Processing 24/163\n",
      "Processing 25/163\n",
      "Processing 26/163\n",
      "Processing 27/163\n",
      "Processing 28/163\n",
      "Processing 29/163\n",
      "Processing 30/163\n",
      "Processing 31/163\n",
      "Processing 32/163\n",
      "Processing 33/163\n",
      "Processing 34/163\n",
      "Processing 35/163\n",
      "Processing 36/163\n",
      "Processing 37/163\n",
      "Processing 38/163\n",
      "Processing 39/163\n",
      "Processing 40/163\n",
      "Processing 41/163\n",
      "Processing 42/163\n",
      "Processing 43/163\n",
      "Processing 44/163\n",
      "Processing 45/163\n",
      "Processing 46/163\n",
      "Processing 47/163\n",
      "Processing 48/163\n",
      "Processing 49/163\n",
      "Processing 50/163\n",
      "Processing 51/163\n",
      "Processing 52/163\n",
      "Processing 53/163\n",
      "Processing 54/163\n",
      "Processing 55/163\n",
      "Processing 56/163\n",
      "Processing 57/163\n",
      "Processing 58/163\n",
      "Processing 59/163\n",
      "Processing 60/163\n",
      "Processing 61/163\n",
      "Processing 62/163\n",
      "Processing 63/163\n",
      "Processing 64/163\n",
      "Processing 65/163\n",
      "Processing 66/163\n",
      "Processing 67/163\n",
      "Processing 68/163\n",
      "Processing 69/163\n",
      "Processing 70/163\n",
      "Processing 71/163\n",
      "Processing 72/163\n",
      "Processing 73/163\n",
      "Processing 74/163\n",
      "Processing 75/163\n",
      "Processing 76/163\n",
      "Processing 77/163\n",
      "Processing 78/163\n",
      "Processing 79/163\n",
      "Processing 80/163\n",
      "Processing 81/163\n",
      "Processing 82/163\n",
      "Processing 83/163\n",
      "Processing 84/163\n",
      "Processing 85/163\n",
      "Processing 86/163\n",
      "Processing 87/163\n",
      "Processing 88/163\n",
      "Processing 89/163\n",
      "Processing 90/163\n",
      "Processing 91/163\n",
      "Processing 92/163\n",
      "Processing 93/163\n",
      "Processing 94/163\n",
      "Processing 95/163\n",
      "Processing 96/163\n",
      "Processing 97/163\n",
      "Processing 98/163\n",
      "Processing 99/163\n",
      "Processing 100/163\n",
      "Processing 101/163\n",
      "Processing 102/163\n",
      "Processing 103/163\n",
      "Processing 104/163\n",
      "Processing 105/163\n",
      "Processing 106/163\n",
      "Processing 107/163\n",
      "Processing 108/163\n",
      "Processing 109/163\n",
      "Processing 110/163\n",
      "Processing 111/163\n",
      "Processing 112/163\n",
      "Processing 113/163\n",
      "Processing 114/163\n",
      "Processing 115/163\n",
      "Processing 116/163\n",
      "Processing 117/163\n",
      "Processing 118/163\n",
      "Processing 119/163\n",
      "Processing 120/163\n",
      "Processing 121/163\n",
      "Processing 122/163\n",
      "Processing 123/163\n",
      "Processing 124/163\n",
      "Processing 125/163\n",
      "Processing 126/163\n",
      "Processing 127/163\n",
      "Processing 128/163\n",
      "Processing 129/163\n",
      "Processing 130/163\n",
      "Processing 131/163\n",
      "Processing 132/163\n",
      "Processing 133/163\n",
      "Processing 134/163\n",
      "Processing 135/163\n",
      "Processing 136/163\n",
      "Processing 137/163\n",
      "Processing 138/163\n",
      "Processing 139/163\n",
      "Processing 140/163\n",
      "Processing 141/163\n",
      "Processing 142/163\n",
      "Processing 143/163\n",
      "Processing 144/163\n",
      "Processing 145/163\n",
      "Processing 146/163\n",
      "Processing 147/163\n",
      "Processing 148/163\n",
      "Processing 149/163\n",
      "Processing 150/163\n",
      "Processing 151/163\n",
      "Processing 152/163\n",
      "Processing 153/163\n",
      "Processing 154/163\n",
      "Processing 155/163\n",
      "Processing 156/163\n",
      "Processing 157/163\n",
      "Processing 158/163\n",
      "Processing 159/163\n",
      "Processing 160/163\n",
      "Processing 161/163\n",
      "Processing 162/163\n"
     ]
    }
   ],
   "source": [
    "sub_dataset = glob.glob('../../../maestro-v3.0.0/no-pedal/midi/2011/*.midi')\n",
    "duration_dict = {}\n",
    "bpm_dict = {}\n",
    "density_dict = {}\n",
    "\n",
    "for idx, filepath in enumerate(sub_dataset):\n",
    "    print('Processing {}/{}'.format(idx, len(sub_dataset)))\n",
    "    midi_obj = miditoolkit.midi.parser.MidiFile(filepath)\n",
    "    bpm = midi_obj.tempo_changes[0]  # Read tempo\n",
    "    if bpm in bpm_dict.keys():\n",
    "        bpm_dict[bpm] += 1\n",
    "    else:\n",
    "        bpm_dict[bpm] = 1\n",
    "        \n",
    "    frame = midi_obj.time_signature_changes[0].numerator*4  # Set frame to every 4 bars for density\n",
    "    frame_tick = midi_obj.ticks_per_beat * frame\n",
    "    \n",
    "    end_tick = frame_tick\n",
    "    length_dict = {}\n",
    "    onset = [i for i in midi_obj.instruments[0].control_changes if i.value==127]\n",
    "    offset = [j for j in midi_obj.instruments[0].control_changes if j.value==0]\n",
    "    for idx, pedal in enumerate(onset):\n",
    "        bar = round(pedal.time / frame_tick)\n",
    "        if bar in length_dict.keys():\n",
    "            length_dict[bar].append(pedal)\n",
    "            length_dict[bar].append(offset[idx])\n",
    "        else:\n",
    "            length_dict[bar] = [pedal]\n",
    "            length_dict[bar].append(offset[idx])\n",
    "            \n",
    "    keys = length_dict.keys()\n",
    "    for k in range(len(keys)):\n",
    "        if k not in keys:\n",
    "            length_dict[k] = []\n",
    "            \n",
    "    \n",
    "    for a in length_dict.values():\n",
    "        if len(a) in density_dict.keys():\n",
    "            density_dict[len(a)] += 1\n",
    "        else:\n",
    "            density_dict[len(a)] = 1\n",
    "            \n"
   ]
  },
  {
   "cell_type": "code",
   "execution_count": 94,
   "id": "e1b76897-f6ff-4717-a124-ad892d48091f",
   "metadata": {
    "scrolled": true,
    "tags": []
   },
   "outputs": [
    {
     "name": "stdout",
     "output_type": "stream",
     "text": [
      "{TempoChange(tempo=120.0, time=0): 1, TempoChange(tempo=120.0, time=0): 1, TempoChange(tempo=120.0, time=0): 1, TempoChange(tempo=120.0, time=0): 1, TempoChange(tempo=120.0, time=0): 1, TempoChange(tempo=120.0, time=0): 1, TempoChange(tempo=120.0, time=0): 1, TempoChange(tempo=120.0, time=0): 1, TempoChange(tempo=120.0, time=0): 1, TempoChange(tempo=120.0, time=0): 1, TempoChange(tempo=120.0, time=0): 1, TempoChange(tempo=120.0, time=0): 1, TempoChange(tempo=120.0, time=0): 1, TempoChange(tempo=120.0, time=0): 1, TempoChange(tempo=120.0, time=0): 1, TempoChange(tempo=120.0, time=0): 1, TempoChange(tempo=120.0, time=0): 1, TempoChange(tempo=120.0, time=0): 1, TempoChange(tempo=120.0, time=0): 1, TempoChange(tempo=120.0, time=0): 1, TempoChange(tempo=120.0, time=0): 1, TempoChange(tempo=120.0, time=0): 1, TempoChange(tempo=120.0, time=0): 1, TempoChange(tempo=120.0, time=0): 1, TempoChange(tempo=120.0, time=0): 1, TempoChange(tempo=120.0, time=0): 1, TempoChange(tempo=120.0, time=0): 1, TempoChange(tempo=120.0, time=0): 1, TempoChange(tempo=120.0, time=0): 1, TempoChange(tempo=120.0, time=0): 1, TempoChange(tempo=120.0, time=0): 1, TempoChange(tempo=120.0, time=0): 1, TempoChange(tempo=120.0, time=0): 1, TempoChange(tempo=120.0, time=0): 1, TempoChange(tempo=120.0, time=0): 1, TempoChange(tempo=120.0, time=0): 1, TempoChange(tempo=120.0, time=0): 1, TempoChange(tempo=120.0, time=0): 1, TempoChange(tempo=120.0, time=0): 1, TempoChange(tempo=120.0, time=0): 1, TempoChange(tempo=120.0, time=0): 1, TempoChange(tempo=120.0, time=0): 1, TempoChange(tempo=120.0, time=0): 1, TempoChange(tempo=120.0, time=0): 1, TempoChange(tempo=120.0, time=0): 1, TempoChange(tempo=120.0, time=0): 1, TempoChange(tempo=120.0, time=0): 1, TempoChange(tempo=120.0, time=0): 1, TempoChange(tempo=120.0, time=0): 1, TempoChange(tempo=120.0, time=0): 1, TempoChange(tempo=120.0, time=0): 1, TempoChange(tempo=120.0, time=0): 1, TempoChange(tempo=120.0, time=0): 1, TempoChange(tempo=120.0, time=0): 1, TempoChange(tempo=120.0, time=0): 1, TempoChange(tempo=120.0, time=0): 1, TempoChange(tempo=120.0, time=0): 1, TempoChange(tempo=120.0, time=0): 1, TempoChange(tempo=120.0, time=0): 1, TempoChange(tempo=120.0, time=0): 1, TempoChange(tempo=120.0, time=0): 1, TempoChange(tempo=120.0, time=0): 1, TempoChange(tempo=120.0, time=0): 1, TempoChange(tempo=120.0, time=0): 1, TempoChange(tempo=120.0, time=0): 1, TempoChange(tempo=120.0, time=0): 1, TempoChange(tempo=120.0, time=0): 1, TempoChange(tempo=120.0, time=0): 1, TempoChange(tempo=120.0, time=0): 1, TempoChange(tempo=120.0, time=0): 1, TempoChange(tempo=120.0, time=0): 1, TempoChange(tempo=120.0, time=0): 1, TempoChange(tempo=120.0, time=0): 1, TempoChange(tempo=120.0, time=0): 1, TempoChange(tempo=120.0, time=0): 1, TempoChange(tempo=120.0, time=0): 1, TempoChange(tempo=120.0, time=0): 1, TempoChange(tempo=120.0, time=0): 1, TempoChange(tempo=120.0, time=0): 1, TempoChange(tempo=120.0, time=0): 1, TempoChange(tempo=120.0, time=0): 1, TempoChange(tempo=120.0, time=0): 1, TempoChange(tempo=120.0, time=0): 1, TempoChange(tempo=120.0, time=0): 1, TempoChange(tempo=120.0, time=0): 1, TempoChange(tempo=120.0, time=0): 1, TempoChange(tempo=120.0, time=0): 1, TempoChange(tempo=120.0, time=0): 1, TempoChange(tempo=120.0, time=0): 1, TempoChange(tempo=120.0, time=0): 1, TempoChange(tempo=120.0, time=0): 1, TempoChange(tempo=120.0, time=0): 1, TempoChange(tempo=120.0, time=0): 1, TempoChange(tempo=120.0, time=0): 1, TempoChange(tempo=120.0, time=0): 1, TempoChange(tempo=120.0, time=0): 1, TempoChange(tempo=120.0, time=0): 1, TempoChange(tempo=120.0, time=0): 1, TempoChange(tempo=120.0, time=0): 1, TempoChange(tempo=120.0, time=0): 1, TempoChange(tempo=120.0, time=0): 1, TempoChange(tempo=120.0, time=0): 1, TempoChange(tempo=120.0, time=0): 1, TempoChange(tempo=120.0, time=0): 1, TempoChange(tempo=120.0, time=0): 1, TempoChange(tempo=120.0, time=0): 1, TempoChange(tempo=120.0, time=0): 1, TempoChange(tempo=120.0, time=0): 1, TempoChange(tempo=120.0, time=0): 1, TempoChange(tempo=120.0, time=0): 1, TempoChange(tempo=120.0, time=0): 1, TempoChange(tempo=120.0, time=0): 1, TempoChange(tempo=120.0, time=0): 1, TempoChange(tempo=120.0, time=0): 1, TempoChange(tempo=120.0, time=0): 1, TempoChange(tempo=120.0, time=0): 1, TempoChange(tempo=120.0, time=0): 1, TempoChange(tempo=120.0, time=0): 1, TempoChange(tempo=120.0, time=0): 1, TempoChange(tempo=120.0, time=0): 1, TempoChange(tempo=120.0, time=0): 1, TempoChange(tempo=120.0, time=0): 1, TempoChange(tempo=120.0, time=0): 1, TempoChange(tempo=120.0, time=0): 1, TempoChange(tempo=120.0, time=0): 1, TempoChange(tempo=120.0, time=0): 1, TempoChange(tempo=120.0, time=0): 1, TempoChange(tempo=120.0, time=0): 1, TempoChange(tempo=120.0, time=0): 1, TempoChange(tempo=120.0, time=0): 1, TempoChange(tempo=120.0, time=0): 1, TempoChange(tempo=120.0, time=0): 1, TempoChange(tempo=120.0, time=0): 1, TempoChange(tempo=120.0, time=0): 1, TempoChange(tempo=120.0, time=0): 1, TempoChange(tempo=120.0, time=0): 1, TempoChange(tempo=120.0, time=0): 1, TempoChange(tempo=120.0, time=0): 1, TempoChange(tempo=120.0, time=0): 1, TempoChange(tempo=120.0, time=0): 1, TempoChange(tempo=120.0, time=0): 1, TempoChange(tempo=120.0, time=0): 1, TempoChange(tempo=120.0, time=0): 1, TempoChange(tempo=120.0, time=0): 1, TempoChange(tempo=120.0, time=0): 1, TempoChange(tempo=120.0, time=0): 1, TempoChange(tempo=120.0, time=0): 1, TempoChange(tempo=120.0, time=0): 1, TempoChange(tempo=120.0, time=0): 1, TempoChange(tempo=120.0, time=0): 1, TempoChange(tempo=120.0, time=0): 1, TempoChange(tempo=120.0, time=0): 1, TempoChange(tempo=120.0, time=0): 1, TempoChange(tempo=120.0, time=0): 1, TempoChange(tempo=120.0, time=0): 1, TempoChange(tempo=120.0, time=0): 1, TempoChange(tempo=120.0, time=0): 1, TempoChange(tempo=120.0, time=0): 1, TempoChange(tempo=120.0, time=0): 1, TempoChange(tempo=120.0, time=0): 1, TempoChange(tempo=120.0, time=0): 1, TempoChange(tempo=120.0, time=0): 1, TempoChange(tempo=120.0, time=0): 1}\n",
      "{2: 1295, 4: 920, 6: 699, 0: 1139, 10: 377, 8: 496, 14: 232, 12: 295, 16: 165, 28: 15, 18: 113, 20: 77, 24: 22, 30: 16, 22: 40, 26: 25, 32: 2, 38: 1, 34: 1, 44: 1, 36: 1}\n"
     ]
    }
   ],
   "source": [
    "print(bpm_dict)\n",
    "print(density_dict)"
   ]
  },
  {
   "cell_type": "code",
   "execution_count": 105,
   "id": "117ac862-b938-4c15-abd2-7741327bc3c0",
   "metadata": {},
   "outputs": [
    {
     "data": {
      "text/plain": [
       "array([1295,  920,  699, 1139,  377,  496,  232,  295,  165,   15,  113,\n",
       "         77,   22,   16,   40,   25,    2,    1,    1,    1,    1])"
      ]
     },
     "execution_count": 105,
     "metadata": {},
     "output_type": "execute_result"
    }
   ],
   "source": [
    "np.array(list(density_dict.items()))[:, 1]"
   ]
  },
  {
   "cell_type": "code",
   "execution_count": 107,
   "id": "94ea3b89-f6ee-4967-92f8-1a572b6816e5",
   "metadata": {},
   "outputs": [
    {
     "name": "stderr",
     "output_type": "stream",
     "text": [
      "/home/jching9/.local/lib/python3.6/site-packages/seaborn/distributions.py:2619: FutureWarning: `distplot` is a deprecated function and will be removed in a future version. Please adapt your code to use either `displot` (a figure-level function with similar flexibility) or `histplot` (an axes-level function for histograms).\n",
      "  warnings.warn(msg, FutureWarning)\n"
     ]
    },
    {
     "data": {
      "text/plain": [
       "Text(0.5, 1.0, 'histogram of pedal density')"
      ]
     },
     "execution_count": 107,
     "metadata": {},
     "output_type": "execute_result"
    },
    {
     "data": {
      "image/png": "[encoded data removed]",
      "text/plain": [
       "<Figure size 432x288 with 1 Axes>"
      ]
     },
     "metadata": {
      "needs_background": "light"
     },
     "output_type": "display_data"
    }
   ],
   "source": [
    "density_mean = np.mean(np.array(list(density_dict.items()))[:, 1])\n",
    "density_std = np.std(np.array(list(density_dict.items()))[:, 1])\n",
    "density_meanplusstd = density_mean + density_std\n",
    "sns.distplot(np.array(list(density_dict.items()))[:, 1], bins=int(np.max(np.array(list(density_dict.items()))[:, 1])*100), kde=False)\n",
    "ymin,ymax = plt.ylim()\n",
    "plt.vlines(density_mean, ymin, ymax, linestyle='dashed', lw=2, color='green',label='mean')\n",
    "plt.vlines(density_meanplusstd, ymin, ymax, linestyle='dotted', lw=2, color='green',label='mean+std')\n",
    "plt.xlim(0, 5)\n",
    "plt.legend()\n",
    "plt.title('histogram of pedal density')"
   ]
  },
  {
   "cell_type": "code",
   "execution_count": 148,
   "id": "487da449-be07-40a5-b442-ce0619cff7d9",
   "metadata": {},
   "outputs": [
    {
     "data": {
      "image/png": "[encoded data removed]",
      "text/plain": [
       "<Figure size 432x288 with 1 Axes>"
      ]
     },
     "metadata": {
      "needs_background": "light"
     },
     "output_type": "display_data"
    }
   ],
   "source": [
    "keys = list(density_dict.keys())\n",
    "# get values in the same order as keys, and parse percentage values\n",
    "vals = list(density_dict.values())\n",
    "p = sns.barplot(x=keys, y=vals)\n",
    "p.set_xticklabels(p.get_xticklabels(),rotation = 90)\n",
    "p.set_xlabel(\"Number of pedals per 4 bars\", fontsize = 12)\n",
    "p.set_ylabel(\"Count\", fontsize = 12)\n",
    "p.set(title='Histogram of Pedal Density')\n",
    "plt.savefig('../image/density_dist_4bar.png')"
   ]
  },
  {
   "cell_type": "code",
   "execution_count": null,
   "id": "68877a05-820c-4549-9374-7251c71f33d9",
   "metadata": {},
   "outputs": [],
   "source": []
  },
  {
   "cell_type": "code",
   "execution_count": 72,
   "id": "affb6e6b-e501-4bb6-b32b-d1cf161c77bb",
   "metadata": {},
   "outputs": [
    {
     "name": "stdout",
     "output_type": "stream",
     "text": [
      "25\n"
     ]
    }
   ],
   "source": [
    "keys = length_dict.keys()\n",
    "print(len(keys))\n",
    "for k in range(len(keys)):\n",
    "    if k not in keys:\n",
    "        length_dict[k] = []"
   ]
  },
  {
   "cell_type": "code",
   "execution_count": 74,
   "id": "61b14534-e9fa-41ba-bea0-6a59912a3c85",
   "metadata": {},
   "outputs": [
    {
     "data": {
      "text/plain": [
       "{2: 15, 4: 6, 6: 1, 0: 10}"
      ]
     },
     "execution_count": 74,
     "metadata": {},
     "output_type": "execute_result"
    }
   ],
   "source": [
    "distribute = {}\n",
    "for a in length_dict.values():\n",
    "    if len(a) in distribute.keys():\n",
    "        distribute[len(a)] += 1\n",
    "    else:\n",
    "        distribute[len(a)] = 1\n",
    "        \n",
    "distribute"
   ]
  },
  {
   "cell_type": "code",
   "execution_count": null,
   "id": "ecaeab08-e008-451f-ae2b-d4f623b3ce1a",
   "metadata": {},
   "outputs": [],
   "source": []
  },
  {
   "cell_type": "code",
   "execution_count": null,
   "id": "3b540582-9704-4d6b-8ecf-fb38595d22aa",
   "metadata": {},
   "outputs": [],
   "source": []
  },
  {
   "cell_type": "code",
   "execution_count": null,
   "id": "66438ac7-457b-4661-b51d-5bc8191ac34d",
   "metadata": {},
   "outputs": [],
   "source": [
    "print('Calculating pedalled segment length...')\n",
    "pedal_lengths = []\n",
    "years = ['2002','2004','2006','2008','2009','2011']\n",
    "for year in years:\n",
    "    print('  {}..'.format(year))\n",
    "    txt_path = os.path.join(DIR_PEDAL_METADATA,'filename-{}.txt'.format(year))\n",
    "    filenames = np.genfromtxt(txt_path, dtype=None)\n",
    "\n",
    "    for filename in filenames:\n",
    "        midi_path = os.path.join(DIR_RENDERED, '{}.mid'.format(filename))\n",
    "        \n",
    "        # get ground truth pedal onset time from midi\n",
    "        pm = pretty_midi.PrettyMIDI(midi_path)\n",
    "        pedal_v = []\n",
    "        pedal_t = []\n",
    "        for control_change in pm.instruments[0].control_changes:\n",
    "            if control_change.number == 64:\n",
    "                pedal_v.append(control_change.value)\n",
    "                pedal_t.append(control_change.time)\n",
    "                \n",
    "        pedal_onset = []\n",
    "        pedal_offset = []\n",
    "        for i,v in enumerate(pedal_v):\n",
    "            if i>0 and v>=64 and pedal_v[i-1]<64:\n",
    "                pedal_onset.append(pedal_t[i])   \n",
    "            elif i>0 and v<64 and pedal_v[i-1]>=64:\n",
    "                pedal_offset.append(pedal_t[i])\n",
    "        \n",
    "        pedal_offset = [t for t in pedal_offset if t > pedal_onset[0]]\n",
    "        seg_idxs = np.min([len(pedal_onset), len(pedal_offset)])\n",
    "        pedal_offset = pedal_offset[:seg_idxs]\n",
    "        pedal_onset = pedal_onset[:seg_idxs]\n",
    "        for seg_idx, offset in enumerate(pedal_offset):\n",
    "            if offset != pedal_offset[-1] and offset > pedal_onset[seg_idx] and offset < pedal_onset[seg_idx+1]:\n",
    "                correct_pedal_data = True\n",
    "            elif offset == pedal_offset[-1] and offset > pedal_onset[seg_idx]:\n",
    "                correct_pedal_data = True\n",
    "            else:\n",
    "                correct_pedal_data = False\n",
    "        \n",
    "        if correct_pedal_data:\n",
    "            for seg_idx in np.arange(seg_idxs):\n",
    "                pedal_lengths.append(pedal_offset[seg_idx]-pedal_onset[seg_idx])\n",
    "\n",
    "print('Done!')"
   ]
  },
  {
   "cell_type": "code",
   "execution_count": null,
   "id": "db056599-b915-486c-bd97-91ca673ee3ad",
   "metadata": {},
   "outputs": [],
   "source": []
  }
 ],
 "metadata": {
  "kernelspec": {
   "display_name": "susPed",
   "language": "python",
   "name": "susped"
  },
  "language_info": {
   "codemirror_mode": {
    "name": "ipython",
    "version": 3
   },
   "file_extension": ".py",
   "mimetype": "text/x-python",
   "name": "python",
   "nbconvert_exporter": "python",
   "pygments_lexer": "ipython3",
   "version": "3.6.10"
  }
 },
 "nbformat": 4,
 "nbformat_minor": 5
}
